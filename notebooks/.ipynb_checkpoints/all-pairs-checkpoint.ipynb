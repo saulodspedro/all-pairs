{
 "cells": [
  {
   "cell_type": "code",
   "execution_count": 24,
   "metadata": {},
   "outputs": [
    {
     "name": "stdout",
     "output_type": "stream",
     "text": [
      "[nltk_data] Downloading package brown to /home/saulo/nltk_data...\n",
      "[nltk_data]   Package brown is already up-to-date!\n",
      "[nltk_data] Downloading package punkt to /home/saulo/nltk_data...\n",
      "[nltk_data]   Package punkt is already up-to-date!\n"
     ]
    },
    {
     "data": {
      "text/plain": [
       "True"
      ]
     },
     "execution_count": 24,
     "metadata": {},
     "output_type": "execute_result"
    }
   ],
   "source": [
    "import nltk\n",
    "from pymongo import MongoClient\n",
    "from textblob import TextBlob\n",
    "from allpairsconfig import ConfigAllPairs\n",
    "nltk.download('brown')\n",
    "nltk.download('punkt')"
   ]
  },
  {
   "cell_type": "code",
   "execution_count": 25,
   "metadata": {},
   "outputs": [],
   "source": [
    "#create a configuration object\n",
    "ap_conf = ConfigAllPairs()\n",
    "\n",
    "#connection to mongo database\n",
    "conn = MongoClient(ap_conf.db_address)\n",
    "\n",
    "db_ap = conn['db_allpairs']"
   ]
  },
  {
   "cell_type": "code",
   "execution_count": 26,
   "metadata": {},
   "outputs": [],
   "source": [
    "#simple all-pairs data generator\n",
    "\n",
    "with open('sample.txt', 'r') as myfile:\n",
    "    data=myfile.read().replace('\\n', ' ')\n",
    "    "
   ]
  },
  {
   "cell_type": "code",
   "execution_count": 27,
   "metadata": {},
   "outputs": [],
   "source": [
    "blob = TextBlob(data)\n",
    "\n",
    "nouns = list(set(blob.noun_phrases))"
   ]
  },
  {
   "cell_type": "code",
   "execution_count": 28,
   "metadata": {},
   "outputs": [
    {
     "name": "stdout",
     "output_type": "stream",
     "text": [
      "[u'long-term bass player', u'bon scott', 'malcolm', u\"'s memory\", u'album highway', 'scott', 'voltage', u'heavy metal', 'hell', u'music journalists', u'hard rock', u'razors edge', u'phil rudd', u'blues rock', u'axl rose', u'rock band', 'bust', 'powerage', 'roses', 'black', u'black ice', 'sydney', u'guns n', u'lead singer', 'australian', 'salute', u\"year 's dates\", u'chris slade', u'cliff williams', u'legal troubles', u\"band 's studio album\", 'no.1', u\"band 's vocalist\", 'rudd', u'charts worldwide', u'mark evans', u'new heights', 'membership', u'line-up changes', u'world tour', u\"band 's\", 'ac/dc', u'simon wright', 'february', 'johnson', u'brian johnson', 'angus', u'all-time best-seller', u\"young 's retirement\", 'ballbreaker', u'hearing loss', u'early-onset dementia', u'early 1990s', 'rock', u'commercial resurgence', u'acute alcohol', u'background vocalist', u\"band 's line-up\"]\n"
     ]
    }
   ],
   "source": [
    "print nouns"
   ]
  },
  {
   "cell_type": "code",
   "execution_count": 31,
   "metadata": {},
   "outputs": [],
   "source": [
    "everygrams = nltk.everygrams(blob.words,\n",
    "                            min_len=3,\n",
    "                            max_len=5)"
   ]
  },
  {
   "cell_type": "code",
   "execution_count": 32,
   "metadata": {},
   "outputs": [],
   "source": [
    "for grams in everygrams:\n",
    "    for noun in nouns:\n",
    "        joined = ' '.join(grams).lower()\n",
    "        if (joined.startswith(noun) or (joined.endswith(noun))):\n",
    "            db_ap.allpairs.insert_one({'noun_phrase':noun, \n",
    "                                       'ctx_pattern': joined.replace(noun,'_',1)})\n",
    "        "
   ]
  },
  {
   "cell_type": "code",
   "execution_count": null,
   "metadata": {},
   "outputs": [],
   "source": []
  },
  {
   "cell_type": "code",
   "execution_count": null,
   "metadata": {},
   "outputs": [],
   "source": []
  }
 ],
 "metadata": {
  "kernelspec": {
   "display_name": "Python 3",
   "language": "python",
   "name": "python3"
  },
  "language_info": {
   "codemirror_mode": {
    "name": "ipython",
    "version": 3
   },
   "file_extension": ".py",
   "mimetype": "text/x-python",
   "name": "python",
   "nbconvert_exporter": "python",
   "pygments_lexer": "ipython3",
   "version": "3.7.0"
  }
 },
 "nbformat": 4,
 "nbformat_minor": 2
}
