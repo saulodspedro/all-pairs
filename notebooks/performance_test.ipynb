{
 "cells": [
  {
   "cell_type": "code",
   "execution_count": 7,
   "metadata": {},
   "outputs": [
    {
     "name": "stderr",
     "output_type": "stream",
     "text": [
      "[nltk_data] Downloading package brown to /home/saulo/nltk_data...\n",
      "[nltk_data]   Package brown is already up-to-date!\n",
      "[nltk_data] Downloading package punkt to /home/saulo/nltk_data...\n",
      "[nltk_data]   Package punkt is already up-to-date!\n"
     ]
    }
   ],
   "source": [
    "import nltk\n",
    "from pymongo import MongoClient\n",
    "from textblob import TextBlob\n",
    "nltk.download('brown')\n",
    "nltk.download('punkt')\n",
    "import time"
   ]
  },
  {
   "cell_type": "code",
   "execution_count": 11,
   "metadata": {},
   "outputs": [],
   "source": [
    "#simple all-pairs data generator with TextBlob + NLTK\n",
    "\n",
    "start = time.time()\n",
    "\n",
    "filename = '/home/saulo/projects/all-pairs/data/AA/wiki_00'\n",
    "\n",
    "with open(filename, 'r') as myfile:\n",
    "        data=myfile.read().replace('\\n', ' ')\n",
    "\n",
    "blob = TextBlob(data)\n",
    "\n",
    "nouns = list(set(blob.noun_phrases))\n",
    "\n",
    "everygrams = nltk.everygrams(blob.words,\n",
    "                             min_len=3,\n",
    "                             max_len=5)\n",
    "\n",
    "del blob\n",
    "\n",
    "pairs = []\n",
    "\n",
    "for grams in everygrams:\n",
    "    for noun in nouns:\n",
    "        joined = ' '.join(grams).lower()\n",
    "        if (joined.startswith(noun+\" \") or (joined.endswith(\" \"+noun))):\n",
    "            pairs.append((noun, joined.replace(noun,'_',1)))\n",
    "\n",
    "end = time.time()\n",
    "\n",
    "print(end - start)"
   ]
  },
  {
   "cell_type": "code",
   "execution_count": 12,
   "metadata": {},
   "outputs": [
    {
     "name": "stdout",
     "output_type": "stream",
     "text": [
      "9679.075819253922\n"
     ]
    }
   ],
   "source": [
    "#simple all-pairs data generator with Spacy\n",
    "\n",
    "start = time.time()\n",
    "\n",
    "filename = '/home/saulo/projects/all-pairs/data/AA/wiki_00'\n",
    "\n",
    "with open(filename, 'r') as myfile:\n",
    "        data=myfile.read().replace('\\n', ' ')\n",
    "\n",
    "blob = TextBlob(data)\n",
    "\n",
    "nouns = list(set(blob.noun_phrases))\n",
    "\n",
    "everygrams = nltk.everygrams(blob.words,\n",
    "                             min_len=3,\n",
    "                             max_len=5)\n",
    "\n",
    "del blob\n",
    "\n",
    "pairs = []\n",
    "\n",
    "for grams in everygrams:\n",
    "    for noun in nouns:\n",
    "        joined = ' '.join(grams).lower()\n",
    "        if (joined.startswith(noun+\" \") or (joined.endswith(\" \"+noun))):\n",
    "            pairs.append((noun, joined.replace(noun,'_',1)))\n",
    "\n",
    "end = time.time()\n",
    "\n",
    "print(end - start)"
   ]
  },
  {
   "cell_type": "code",
   "execution_count": 1,
   "metadata": {},
   "outputs": [],
   "source": [
    "import spacy\n",
    "import time\n",
    "from textblob import TextBlob\n",
    "nlp = spacy.load('en_core_web_sm')\n",
    "\n",
    "filename = '/home/saulo/projects/all-pairs/samples/queen.txt'\n",
    "\n",
    "with open(filename, 'r') as myfile:\n",
    "    data=myfile.read().replace('\\n', ' ')"
   ]
  },
  {
   "cell_type": "code",
   "execution_count": 3,
   "metadata": {},
   "outputs": [
    {
     "name": "stdout",
     "output_type": "stream",
     "text": [
      "['will rock', 'lead guitar', 'may', \"queen 's record sales range\", 'ivor novello', 'grammy lifetime', 'arena rock', 'collection', 'british music award', 'songwriters', 'composers', 'heavy metal', 'outstanding contribution', 'international success', 'outstanding song', 'bass guitar', 'paul rodgers', 'british academy', 'mercury', 'rock history', 'progressive rock', 'music video', 'taylor', 'eponymous debut album', 'freddie mercury', 'british rock band', 'adam lambert', 'england', 'john deacon', 'achievement award', 'august', 'smile', 'bites', 'various publications', 'bohemian rhapsody', 'rock', 'aids', 'authors', 'uk', 'queen name', 'brian may', 'deacon', 'knebworth', 'early 1980s', 'greatest hits', 'london', 'music artists', 'live', 'classic line-up', 'compilation album', 'phonographic', 'roll', 'champions', 'band ’ s', 'stadium rock bands', 'roger taylor', 'a night', 'sheer heart attack', 'fame', 'lead vocals', 'dust', \"world 's\", 'album news', 'hard rock', 'ii', 'times platinum']\n",
      "7.573078155517578\n"
     ]
    }
   ],
   "source": [
    "start = time.time()\n",
    "\n",
    "blob = TextBlob(data)\n",
    "nouns = list(set(blob.noun_phrases))\n",
    "\n",
    "end = time.time()\n",
    "\n",
    "print(nouns)\n",
    "print(end - start)"
   ]
  },
  {
   "cell_type": "code",
   "execution_count": 2,
   "metadata": {},
   "outputs": [
    {
     "name": "stdout",
     "output_type": "stream",
     "text": [
      "['Each member', 'the Opera', 'bass guitar', 'nine weeks', 'their eponymous debut album', 'the best-selling album', 'hit singles', 'Sheer Heart Attack', 'Smile', 'Authors', 'various publications', 'Queen', 'guitar', 'the music video', 'Paul Rodgers', 'number', '300 million records', 'sporting events', 'their second album', 'pop rock', 'the World', 'vocals', 'Their classic line-up', 'Knebworth', 'Estimates', 'Another One Bites', 'heavy metal', 'a fan', 'You', 'international success', 'Outstanding Song Collection', 'progressive rock', '\"Bohemian Rhapsody', 'the Queen name', 'the Dust', 'piano', 'the 1985 Live Aid concert', 'further styles', 'British Music Award', 'Greatest Hits', 'recording techniques', 'a complication', 'eight times platinum', 'May', 'the biggest stadium rock bands', 'the US', 'Composers', 'he', 'Freddie Mercury', 'more conventional and radio-friendly works', 'London', 'his last performance', 'Fame', 'rock history', 'they', 'them', 'the band', 'the Outstanding Contribution', 'anthems', 'England', 'bronchopneumonia', 'the Rock and Roll Hall', 'more elaborate stage', 'We', 'the Champions', 'Adam Lambert', 'August', 'Mercury', 'hard rock', 'Their performance', 'arena rock', 'the Songwriters Hall', 'the British Academy', 'the Grammy Lifetime Achievement Award', 'They', \"the world's best-selling music artists\", 'Their earliest works', 'the Ivor Novello Award', 'the band Smile', 'vocalists', 'He', 'Songwriters', 'Deacon', 'AIDS', 'the UK', 'Taylor', 'the British Phonographic Industry', 'the name', 'Queen II', 'the world', 'a British rock band', 'lead vocals', 'The band’s 1977 album News']\n",
      "0.14464735984802246\n"
     ]
    }
   ],
   "source": [
    "start = time.time()\n",
    "\n",
    "doc = nlp(data)\n",
    "nouns = list(set([chunk.text for chunk in doc.noun_chunks]))\n",
    "\n",
    "end = time.time()\n",
    "\n",
    "print(nouns)\n",
    "print(end - start)"
   ]
  },
  {
   "cell_type": "code",
   "execution_count": null,
   "metadata": {},
   "outputs": [],
   "source": []
  }
 ],
 "metadata": {
  "kernelspec": {
   "display_name": "Python 3",
   "language": "python",
   "name": "python3"
  },
  "language_info": {
   "codemirror_mode": {
    "name": "ipython",
    "version": 3
   },
   "file_extension": ".py",
   "mimetype": "text/x-python",
   "name": "python",
   "nbconvert_exporter": "python",
   "pygments_lexer": "ipython3",
   "version": "3.7.0"
  }
 },
 "nbformat": 4,
 "nbformat_minor": 2
}
